{
  "nbformat": 4,
  "nbformat_minor": 0,
  "metadata": {
    "colab": {
      "provenance": []
    },
    "kernelspec": {
      "name": "python3",
      "display_name": "Python 3"
    },
    "language_info": {
      "name": "python"
    }
  },
  "cells": [
    {
      "cell_type": "code",
      "source": [
        "!sudo apt-get install -y fonts-nanum\n",
        "!sudo fc-cache -fv\n",
        "!rm ~/.cache/matplotlib -rf"
      ],
      "metadata": {
        "colab": {
          "base_uri": "https://localhost:8080/"
        },
        "id": "BtSEVW9sFebZ",
        "outputId": "2c9d40d1-2252-4b86-c230-1dc3be79e939"
      },
      "execution_count": null,
      "outputs": [
        {
          "output_type": "stream",
          "name": "stdout",
          "text": [
            "Reading package lists... Done\n",
            "Building dependency tree... Done\n",
            "Reading state information... Done\n",
            "fonts-nanum is already the newest version (20200506-1).\n",
            "0 upgraded, 0 newly installed, 0 to remove and 35 not upgraded.\n",
            "/usr/share/fonts: caching, new cache contents: 0 fonts, 1 dirs\n",
            "/usr/share/fonts/truetype: caching, new cache contents: 0 fonts, 3 dirs\n",
            "/usr/share/fonts/truetype/humor-sans: caching, new cache contents: 1 fonts, 0 dirs\n",
            "/usr/share/fonts/truetype/liberation: caching, new cache contents: 16 fonts, 0 dirs\n",
            "/usr/share/fonts/truetype/nanum: caching, new cache contents: 12 fonts, 0 dirs\n",
            "/usr/local/share/fonts: caching, new cache contents: 0 fonts, 0 dirs\n",
            "/root/.local/share/fonts: skipping, no such directory\n",
            "/root/.fonts: skipping, no such directory\n",
            "/usr/share/fonts/truetype: skipping, looped directory detected\n",
            "/usr/share/fonts/truetype/humor-sans: skipping, looped directory detected\n",
            "/usr/share/fonts/truetype/liberation: skipping, looped directory detected\n",
            "/usr/share/fonts/truetype/nanum: skipping, looped directory detected\n",
            "/var/cache/fontconfig: cleaning cache directory\n",
            "/root/.cache/fontconfig: not cleaning non-existent cache directory\n",
            "/root/.fontconfig: not cleaning non-existent cache directory\n",
            "fc-cache: succeeded\n"
          ]
        }
      ]
    },
    {
      "cell_type": "code",
      "execution_count": null,
      "metadata": {
        "id": "xeMLzG3j75Na"
      },
      "outputs": [],
      "source": [
        "import pandas as pd\n",
        "import numpy as np\n",
        "\n",
        "import seaborn as sns\n",
        "from sklearn.linear_model import LinearRegression\n",
        "from sklearn.metrics import r2_score\n",
        "from scipy import stats\n",
        "\n",
        "import warnings\n",
        "warnings.filterwarnings('ignore')\n",
        "\n",
        "import matplotlib.pyplot as plt\n",
        "\n",
        "plt.rc('font', family='NanumGothic')"
      ]
    },
    {
      "cell_type": "code",
      "source": [
        "#1. A/B 테스트 신뢰구간 분석\n",
        "\n",
        "# A/B 테스트 데이터 생성\n",
        "np.random.seed(404)\n",
        "\n",
        "# A그룹 (기존 디자인): 전환율 12%\n",
        "n_a = 500\n",
        "conversion_rate_a = 0.12\n",
        "conversions_a = np.random.binomial(1, conversion_rate_a, n_a)\n",
        "\n",
        "# B그룹 (새 디자인): 전환율 15%\n",
        "n_b = 500\n",
        "conversion_rate_b = 0.15\n",
        "conversions_b = np.random.binomial(1, conversion_rate_b, n_b)\n",
        "\n",
        "# 데이터프레임 생성\n",
        "ab_test_data = pd.DataFrame({\n",
        "    'group': ['A']*n_a + ['B']*n_b,\n",
        "    'user_id': range(1, n_a + n_b + 1),\n",
        "    'converted': np.concatenate([conversions_a, conversions_b])\n",
        "})\n",
        "\n",
        "print(\"🧪 A/B 테스트 데이터\")\n",
        "print(f\"A그룹 사용자 수: {n_a}명\")\n",
        "print(f\"B그룹 사용자 수: {n_b}명\")\n",
        "print(\"\\n그룹별 전환율:\")\n",
        "conversion_summary = ab_test_data.groupby('group')['converted'].agg(['count', 'sum', 'mean'])\n",
        "conversion_summary.columns = ['총_사용자수', '전환_사용자수', '전환율']\n",
        "print(conversion_summary)\n"
      ],
      "metadata": {
        "colab": {
          "base_uri": "https://localhost:8080/"
        },
        "id": "aAM6TAVKB6C2",
        "outputId": "b575b58f-8735-4645-a79e-47963623c3d1"
      },
      "execution_count": null,
      "outputs": [
        {
          "output_type": "stream",
          "name": "stdout",
          "text": [
            "🧪 A/B 테스트 데이터\n",
            "A그룹 사용자 수: 500명\n",
            "B그룹 사용자 수: 500명\n",
            "\n",
            "그룹별 전환율:\n",
            "       총_사용자수  전환_사용자수    전환율\n",
            "group                        \n",
            "A         500       60  0.120\n",
            "B         500       56  0.112\n"
          ]
        }
      ]
    },
    {
      "cell_type": "code",
      "source": [
        "#1.1. 기본 통계량 계산\n",
        "\n",
        "# TODO: p_a 계산하기 (A그룹 전환율)\n",
        "p_a = np.mean(conversions_a)\n",
        "\n",
        "# TODO: p_b 계산하기 (B그룹 전환율)\n",
        "p_b = np.mean(conversions_b)\n",
        "\n",
        "# TODO: A그룹 표준오차 계산하기\n",
        "# 힌트: 비율의 표준오차 공식은 sqrt(p(1-p)/n)\n",
        "se_a = np.sqrt(p_a * (1 - p_a) / n_a)\n",
        "\n",
        "# TODO: B그룹 표준오차 계산하기\n",
        "se_b = np.sqrt(p_b * (1 - p_b) / n_b)\n",
        "\n",
        "print(f\"A그룹 전환율: {p_a:.3f} ± {se_a:.3f}\")\n",
        "print(f\"B그룹 전환율: {p_b:.3f} ± {se_b:.3f}\")\n"
      ],
      "metadata": {
        "colab": {
          "base_uri": "https://localhost:8080/"
        },
        "id": "z0gb5dCIB6GX",
        "outputId": "c95eaaf6-850f-41c9-c524-5df286162442"
      },
      "execution_count": null,
      "outputs": [
        {
          "output_type": "stream",
          "name": "stdout",
          "text": [
            "A그룹 전환율: 0.120 ± 0.015\n",
            "B그룹 전환율: 0.112 ± 0.014\n"
          ]
        }
      ]
    },
    {
      "cell_type": "code",
      "source": [
        "#1.2. A그룹 신뢰구간 계산\n",
        "z_score = 1.96\n",
        "\n",
        "ci_a_lower = p_a - z_score * se_a\n",
        "\n",
        "ci_a_upper = p_a + z_score * se_a\n",
        "\n",
        "print(f\"A그룹 95% 신뢰구간: [{ci_a_lower:.3f}, {ci_a_upper:.3f}]\")"
      ],
      "metadata": {
        "colab": {
          "base_uri": "https://localhost:8080/"
        },
        "id": "U0k_mE7tB6Kv",
        "outputId": "7ad5acb7-2574-419e-d3db-c2a143a8b086"
      },
      "execution_count": null,
      "outputs": [
        {
          "output_type": "stream",
          "name": "stdout",
          "text": [
            "A그룹 95% 신뢰구간: [0.092, 0.148]\n"
          ]
        }
      ]
    },
    {
      "cell_type": "code",
      "source": [
        "#1.3. B그룹 신뢰구간 계산\n",
        "\n",
        "ci_b_lower = p_b - z_score * se_b\n",
        "\n",
        "ci_b_upper = p_b + z_score * se_b\n",
        "\n",
        "print(f\"B그룹 95% 신뢰구간: [{ci_b_lower:.3f}, {ci_b_upper:.3f}]\")"
      ],
      "metadata": {
        "colab": {
          "base_uri": "https://localhost:8080/"
        },
        "id": "raIZEZmiB6YJ",
        "outputId": "308ee38e-9732-408f-ef24-5aa0c9e7ff1f"
      },
      "execution_count": null,
      "outputs": [
        {
          "output_type": "stream",
          "name": "stdout",
          "text": [
            "B그룹 95% 신뢰구간: [0.084, 0.140]\n"
          ]
        }
      ]
    },
    {
      "cell_type": "code",
      "source": [
        "#1.4. 그룹별 신뢰구간 시각화\n",
        "\n",
        "plt.figure(figsize=(8, 6))\n",
        "groups = ['A그룹', 'B그룹']\n",
        "rates = [p_a, p_b]\n",
        "errors = [z_score * se_a, z_score * se_b]\n",
        "plt.bar(groups, rates, yerr=errors, capsize=10, alpha=0.7)\n",
        "plt.ylabel('전환율')\n",
        "plt.title('그룹별 전환율과 95% 신뢰구간')\n",
        "plt.show()"
      ],
      "metadata": {
        "colab": {
          "base_uri": "https://localhost:8080/",
          "height": 492
        },
        "id": "vY43k4IoEHnE",
        "outputId": "e74a3f99-1fb6-4a9d-a857-b63774f8df1d"
      },
      "execution_count": null,
      "outputs": [
        {
          "output_type": "display_data",
          "data": {
            "text/plain": [
              "<Figure size 800x600 with 1 Axes>"
            ],
            "image/png": "[encoded data removed]"
          },
          "metadata": {}
        }
      ]
    },
    {
      "cell_type": "code",
      "source": [
        "#1.5. 전환율 차이 계산\n",
        "\n",
        "diff = p_b - p_a\n",
        "se_diff = np.sqrt(se_a**2 + se_b**2)\n",
        "\n",
        "print(f\"전환율 차이 (B-A): {diff:.3f}\")\n",
        "print(f\"차이의 표준오차: {se_diff:.3f}\")\n"
      ],
      "metadata": {
        "id": "DGsnfTTmEHuK",
        "colab": {
          "base_uri": "https://localhost:8080/"
        },
        "outputId": "6d4e8cdd-98c5-4653-a987-fcbc7da21184"
      },
      "execution_count": null,
      "outputs": [
        {
          "output_type": "stream",
          "name": "stdout",
          "text": [
            "전환율 차이 (B-A): -0.008\n",
            "차이의 표준오차: 0.020\n"
          ]
        }
      ]
    },
    {
      "cell_type": "code",
      "source": [
        "#1.6. 차이의 신뢰구간 계산\n",
        "\n",
        "ci_diff_lower = diff - 1.96 * se_diff\n",
        "ci_diff_upper = diff + 1.96 * se_diff\n",
        "\n",
        "print(f\"전환율 차이의 95% 신뢰구간: [{ci_diff_lower:.3f}, {ci_diff_upper:.3f}]\")\n",
        "\n",
        "if ci_diff_lower > 0:\n",
        "    print(\"🎉 B가 A보다 확실히 좋습니다!\")\n",
        "elif ci_diff_upper < 0:\n",
        "    print(\"😢 A가 B보다 확실히 좋습니다.\")\n",
        "else:\n",
        "    print(\"🤔 두 그룹의 차이가 통계적으로 유의미하지 않다\")\n"
      ],
      "metadata": {
        "id": "mVvzxE4_EHxl",
        "colab": {
          "base_uri": "https://localhost:8080/"
        },
        "outputId": "44674890-aa82-4bc4-e513-93e358aae532"
      },
      "execution_count": null,
      "outputs": [
        {
          "output_type": "stream",
          "name": "stdout",
          "text": [
            "전환율 차이의 95% 신뢰구간: [-0.048, 0.032]\n",
            "🤔 두 그룹의 차이가 통계적으로 유의미하지 않다\n"
          ]
        }
      ]
    },
    {
      "cell_type": "code",
      "source": [
        "#1.7. 경영진 보고서 작성\n",
        "\n",
        "print(\"📋 경영진 보고서\")\n",
        "print(\"=\"*50)\n",
        "print(f\"🔍 분석 결과:\")\n",
        "print(f\"   • A그룹 전환율: {p_a:.1%}\")\n",
        "print(f\"   • B그룹 전환율: {p_b:.1%}\")\n",
        "print(f\"   • 개선 효과: {diff:.1%}p\")\n",
        "print()\n",
        "print(f\"📊 통계적 신뢰도:\")\n",
        "print(f\"   • 개선 효과 범위: {ci_diff_lower:.1%}p ~ {ci_diff_upper:.1%}p\")\n",
        "print()\n",
        "print(\"💡 의사결정:\")\n",
        "\n",
        "if ci_diff_lower > 0:\n",
        "    print(\"   ✅ 새 디자인(B) 도입을 권장합니다!\")\n",
        "else:\n",
        "    print(\"   ❌ B안의 효과가 통계적으로 유의미하지 않아, 추가 데이터 수집 또는 현행 유지(A)를 권장합니다.\")\n"
      ],
      "metadata": {
        "id": "xxbnTwHbEH1A",
        "colab": {
          "base_uri": "https://localhost:8080/"
        },
        "outputId": "b84cad03-bd49-4a59-f868-6e07b82d06d5"
      },
      "execution_count": null,
      "outputs": [
        {
          "output_type": "stream",
          "name": "stdout",
          "text": [
            "📋 경영진 보고서\n",
            "==================================================\n",
            "🔍 분석 결과:\n",
            "   • A그룹 전환율: 12.0%\n",
            "   • B그룹 전환율: 11.2%\n",
            "   • 개선 효과: -0.8%p\n",
            "\n",
            "📊 통계적 신뢰도:\n",
            "   • 개선 효과 범위: -4.8%p ~ 3.2%p\n",
            "\n",
            "💡 의사결정:\n",
            "   ❌ B안의 효과가 통계적으로 유의미하지 않아, 추가 데이터 수집 또는 현행 유지(A)를 권장합니다.\n"
          ]
        }
      ]
    },
    {
      "cell_type": "code",
      "source": [
        "#2. 연령대별 구매 분석\n",
        "\n",
        "# 온라인 쇼핑몰의 구매 데이터\n",
        "np.random.seed(789)\n",
        "ages = np.random.randint(20, 60, 100)\n",
        "purchase_amounts = 50 + 2*ages + np.random.normal(0, 20, 100)\n",
        "\n",
        "print(\"📊 구매 데이터 미리보기\")\n",
        "print(f\"연령 범위: {ages.min()}세 ~ {ages.max()}세\")\n",
        "print(f\"구매금액 범위: {purchase_amounts.min():.0f}만원 ~ {purchase_amounts.max():.0f}만원\")\n",
        "print(f\"평균 구매금액: {purchase_amounts.mean():.1f}만원\")\n"
      ],
      "metadata": {
        "id": "zDnWrwDiEH4g",
        "colab": {
          "base_uri": "https://localhost:8080/"
        },
        "outputId": "d73224cb-adcf-4a04-8983-dc6d9a2201f2"
      },
      "execution_count": null,
      "outputs": [
        {
          "output_type": "stream",
          "name": "stdout",
          "text": [
            "📊 구매 데이터 미리보기\n",
            "연령 범위: 20세 ~ 59세\n",
            "구매금액 범위: 39만원 ~ 208만원\n",
            "평균 구매금액: 130.1만원\n"
          ]
        }
      ]
    },
    {
      "cell_type": "code",
      "source": [
        "#2.1. 기본 통계량 계산\n",
        "\n",
        "sample_mean = purchase_amounts.mean()\n",
        "\n",
        "sample_std = purchase_amounts.std(ddof=1)\n",
        "\n",
        "n = len(purchase_amounts)\n",
        "\n",
        "standard_value = 150\n",
        "\n",
        "print(f\"표본 평균: {sample_mean:.2f}만원\")\n",
        "print(f\"표본 표준편차: {sample_std:.2f}만원\")\n",
        "print(f\"표본 크기: {n}명\")\n",
        "print(f\"비교 기준값: {standard_value}만원\")\n"
      ],
      "metadata": {
        "id": "iWeqyV2tEH83",
        "colab": {
          "base_uri": "https://localhost:8080/"
        },
        "outputId": "828f1195-5119-41ef-e452-9a7fa94569ed"
      },
      "execution_count": null,
      "outputs": [
        {
          "output_type": "stream",
          "name": "stdout",
          "text": [
            "표본 평균: 130.09만원\n",
            "표본 표준편차: 33.90만원\n",
            "표본 크기: 100명\n",
            "비교 기준값: 150만원\n"
          ]
        }
      ]
    },
    {
      "cell_type": "code",
      "source": [
        "#2.2. t-통계량 계산\n",
        "\n",
        "t_stat = (sample_mean - standard_value) / (sample_std / np.sqrt(n))\n",
        "\n",
        "print(f\"직접 계산한 t-통계량: {t_stat:.3f}\")\n",
        "\n",
        "from scipy.stats import ttest_1samp\n",
        "t_stat_scipy, p_value = ttest_1samp(purchase_amounts, standard_value)\n",
        "print(f\"scipy로 계산한 t-통계량: {t_stat_scipy:.3f}\")\n",
        "print(f\"p-value: {p_value:.4f}\")\n"
      ],
      "metadata": {
        "colab": {
          "base_uri": "https://localhost:8080/"
        },
        "id": "7JUA0se6JIym",
        "outputId": "0441d5f6-d9dc-4787-ac5d-c0a9ea272869"
      },
      "execution_count": null,
      "outputs": [
        {
          "output_type": "stream",
          "name": "stdout",
          "text": [
            "직접 계산한 t-통계량: -5.874\n",
            "scipy로 계산한 t-통계량: -5.874\n",
            "p-value: 0.0000\n"
          ]
        }
      ]
    },
    {
      "cell_type": "code",
      "source": [
        "#2.3. 결과 해석\n",
        "\n",
        "alpha = 0.05\n",
        "\n",
        "print(\"🎯 결과 해석\")\n",
        "\n",
        "if  p_value < alpha:\n",
        "    print(f\"✅ p-value ({p_value:.4f}) < α ({alpha})\")\n",
        "    print(\"→ 귀무가설 기각! 업계 기준과 유의하게 다릅니다.\")\n",
        "\n",
        "    if  sample_mean > standard_value:\n",
        "        print(\"→ 우리 고객들이 업계 평균보다 더 많이 구매합니다! 🎉\")\n",
        "    else:\n",
        "        print(\"→ 우리 고객들이 업계 평균보다 적게 구매합니다. 😅\")\n",
        "else:\n",
        "    print(f\"❌ p-value ({p_value:.4f}) ≥ α ({alpha})\")\n",
        "    print(\"→ 업계 기준과 유의한 차이가 없습니다.\")\n"
      ],
      "metadata": {
        "colab": {
          "base_uri": "https://localhost:8080/"
        },
        "id": "ibS7JeqMJI1v",
        "outputId": "aa3b75a5-af7b-422c-ff65-0c3dcb0a9278"
      },
      "execution_count": null,
      "outputs": [
        {
          "output_type": "stream",
          "name": "stdout",
          "text": [
            "🎯 결과 해석\n",
            "✅ p-value (0.0000) < α (0.05)\n",
            "→ 귀무가설 기각! 업계 기준과 유의하게 다릅니다.\n",
            "→ 우리 고객들이 업계 평균보다 적게 구매합니다. 😅\n"
          ]
        }
      ]
    },
    {
      "cell_type": "code",
      "source": [
        "#2.4. 연령대별 그룹 나누기\n",
        "\n",
        "young_mask = (ages >= 20) & (ages <= 39)\n",
        "group1_purchases = purchase_amounts[young_mask]\n",
        "\n",
        "middle_mask = (ages >= 40) & (ages <= 59)\n",
        "group2_purchases = purchase_amounts[middle_mask]\n",
        "\n",
        "print(\"👥 그룹 나누기 결과\")\n",
        "print(f\"젊은층 (20-39세): {len(group1_purchases)}명\")\n",
        "print(f\"중년층 (40-59세): {len(group2_purchases)}명\")\n"
      ],
      "metadata": {
        "colab": {
          "base_uri": "https://localhost:8080/"
        },
        "id": "tdcF-zNWJI5v",
        "outputId": "7b24afc0-3cee-44f7-a91b-448981d64690"
      },
      "execution_count": null,
      "outputs": [
        {
          "output_type": "stream",
          "name": "stdout",
          "text": [
            "👥 그룹 나누기 결과\n",
            "젊은층 (20-39세): 47명\n",
            "중년층 (40-59세): 53명\n"
          ]
        }
      ]
    },
    {
      "cell_type": "code",
      "source": [
        "#2.5. 그룹별 기술통계 계산\n",
        "\n",
        "group1_mean = group1_purchases.mean()\n",
        "group2_mean = group2_purchases.mean()\n",
        "\n",
        "group1_std = group1_purchases.std(ddof=1)\n",
        "group2_std = group2_purchases.std(ddof=1)\n",
        "\n",
        "print(\"📊 그룹별 기술통계\")\n",
        "print(f\"젊은층 평균: {group1_mean:.1f}만원 (표준편차: {group1_std:.1f})\")\n",
        "print(f\"중년층 평균: {group2_mean:.1f}만원 (표준편차: {group2_std:.1f})\")\n",
        "\n",
        "diff = group2_mean - group1_mean\n",
        "print(f\"평균 차이: {diff:.1f}만원\")\n"
      ],
      "metadata": {
        "colab": {
          "base_uri": "https://localhost:8080/"
        },
        "id": "gRN6EWiVJI86",
        "outputId": "4ec4e80b-2e2f-4ab2-afaa-fc44a922bc32"
      },
      "execution_count": null,
      "outputs": [
        {
          "output_type": "stream",
          "name": "stdout",
          "text": [
            "📊 그룹별 기술통계\n",
            "젊은층 평균: 106.4만원 (표준편차: 25.2)\n",
            "중년층 평균: 151.1만원 (표준편차: 25.9)\n",
            "평균 차이: 44.6만원\n"
          ]
        }
      ]
    },
    {
      "cell_type": "code",
      "source": [
        "#2.6. 독립표본 t-검정 실행\n",
        "\n",
        "from scipy.stats import ttest_ind\n",
        "\n",
        "t_stat, p_value = ttest_ind(group1_purchases, group2_purchases)\n",
        "\n",
        "print(\"🧮 t-검정 결과\")\n",
        "print(f\"t-통계량: {t_stat:.3f}\")\n",
        "print(f\"p-value: {p_value:.4f}\")\n",
        "\n",
        "alpha = 0.05\n",
        "print(\"🎯 비즈니스 해석\")\n",
        "\n",
        "if  p_value < alpha:\n",
        "    print(\"✅ 통계적으로 유의한 차이가 있습니다!\")\n",
        "\n",
        "    if  group2_mean > group1_mean:\n",
        "        print(\"→ 중년층이 젊은층보다 더 많이 구매합니다!\")\n",
        "    else:\n",
        "        print(\"→ 젊은층이 중년층보다 더 많이 구매합니다!\")\n",
        "else:\n",
        "    print(\"❌ 통계적으로 유의한 차이가 없습니다.\")\n",
        "\n",
        "#젋은 층과 중년층 고객 그룹 간의 평균 구매 금액 차이는 통계적으로 유의미하다\n",
        "#중년층 고객이 젊은층 고객보다 평균적으로 더 많은 금액을 소비한다\n",
        "#연령대에 따른 맞춤형 타겟 전략은 유의미할 것이다"
      ],
      "metadata": {
        "colab": {
          "base_uri": "https://localhost:8080/"
        },
        "id": "KuTiIU09JI_2",
        "outputId": "15b419db-9722-4fdb-8daa-6382923ac2af"
      },
      "execution_count": null,
      "outputs": [
        {
          "output_type": "stream",
          "name": "stdout",
          "text": [
            "🧮 t-검정 결과\n",
            "t-통계량: -8.709\n",
            "p-value: 0.0000\n",
            "🎯 비즈니스 해석\n",
            "✅ 통계적으로 유의한 차이가 있습니다!\n",
            "→ 중년층이 젊은층보다 더 많이 구매합니다!\n"
          ]
        }
      ]
    },
    {
      "cell_type": "code",
      "source": [
        "#2.7. 등분산성 검정\n",
        "\n",
        "from scipy.stats import levene\n",
        "\n",
        "var1 = group1_purchases.var(ddof=1)\n",
        "var2 = group2_purchases.var(ddof=1)\n",
        "\n",
        "print(\"📊 분산 비교\")\n",
        "print(f\"젊은층 분산: {var1:.1f}\")\n",
        "print(f\"중년층 분산: {var2:.1f}\")\n",
        "\n",
        "levene_stat, levene_p = levene(group1_purchases, group2_purchases)\n",
        "\n",
        "print(\"🧪 Levene 등분산성 검정\")\n",
        "print(f\"p-value: {levene_p:.4f}\")\n",
        "\n",
        "if  levene_p >= 0.05:\n",
        "    print(\"✅ 등분산성 가정 만족\")\n",
        "else:\n",
        "    print(\"❌ 등분산성 가정 위배\")\n",
        "\n",
        "\n",
        "#두 그룹의 분산이 같다는 등분산성 가정 만족 > 표준 독립표본 t검정의 전체 조건 충족"
      ],
      "metadata": {
        "colab": {
          "base_uri": "https://localhost:8080/"
        },
        "id": "nw31W_SMJJC5",
        "outputId": "fe5743e3-b4ef-4ce4-b3bb-2d80b3df817b"
      },
      "execution_count": null,
      "outputs": [
        {
          "output_type": "stream",
          "name": "stdout",
          "text": [
            "📊 분산 비교\n",
            "젊은층 분산: 637.1\n",
            "중년층 분산: 669.5\n",
            "🧪 Levene 등분산성 검정\n",
            "p-value: 0.8106\n",
            "✅ 등분산성 가정 만족\n"
          ]
        }
      ]
    },
    {
      "cell_type": "code",
      "source": [
        "#3. 직원 만족도 종합 분석\n",
        "\n",
        "# 직원 만족도 종합 데이터 생성\n",
        "np.random.seed(2024)\n",
        "n = 250\n",
        "\n",
        "data_hr = {\n",
        "    '연봉': np.random.lognormal(np.log(50000), 0.3, n),\n",
        "    '근무연수': np.random.exponential(3, n),\n",
        "    '부서': np.random.choice(['영업', '개발', '마케팅', '인사'], n, p=[0.3, 0.4, 0.2, 0.1]),\n",
        "    '교육시간': np.random.gamma(2, 10, n),\n",
        "    '직급': np.random.choice(['사원', '대리', '과장', '부장'], n, p=[0.4, 0.3, 0.2, 0.1])\n",
        "}\n",
        "\n",
        "df_hr = pd.DataFrame(data_hr)\n",
        "\n",
        "# 만족도 점수 (1-10점) 생성\n",
        "satisfaction_base = (\n",
        "    df_hr['연봉']/10000 * 0.8 +\n",
        "    df_hr['근무연수'] * 0.3 +\n",
        "    df_hr['교육시간'] * 0.1\n",
        ")\n",
        "\n",
        "dept_effect = df_hr['부서'].map({'영업': -0.5, '개발': 0.8, '마케팅': 0.3, '인사': 0.0})\n",
        "rank_effect = df_hr['직급'].map({'사원': 0, '대리': 0.5, '과장': 1.0, '부장': 1.5})\n",
        "\n",
        "satisfaction = satisfaction_base + dept_effect + rank_effect + np.random.normal(0, 0.8, n)\n",
        "satisfaction = np.clip(satisfaction, 1, 10)\n",
        "\n",
        "# 이직 의향\n",
        "turnover_prob = 1 / (1 + np.exp(satisfaction - 5))\n",
        "turnover_intent = np.random.binomial(1, turnover_prob, n)\n",
        "\n",
        "df_hr['만족도'] = satisfaction.round(1)\n",
        "df_hr['이직의향'] = turnover_intent\n",
        "\n",
        "print(\"📊 직원 만족도 데이터 (처음 5개 행)\")\n",
        "print(df_hr.head())\n"
      ],
      "metadata": {
        "colab": {
          "base_uri": "https://localhost:8080/"
        },
        "id": "RBositGqL4Fk",
        "outputId": "8489f45b-778f-4037-cf9a-5cf31c6f61e5"
      },
      "execution_count": null,
      "outputs": [
        {
          "output_type": "stream",
          "name": "stdout",
          "text": [
            "📊 직원 만족도 데이터 (처음 5개 행)\n",
            "             연봉      근무연수   부서       교육시간  직급   만족도  이직의향\n",
            "0  82470.215328  5.843045   개발   4.431883  과장  10.0     0\n",
            "1  62378.915363  1.803688   개발   1.373603  대리   8.2     0\n",
            "2  47066.508609  0.211051  마케팅  17.196300  과장   7.6     0\n",
            "3  47786.798588  4.785220   개발  49.198119  과장  10.0     0\n",
            "4  65814.392648  2.060981   영업  18.363062  사원   9.1     0\n"
          ]
        }
      ]
    },
    {
      "cell_type": "code",
      "source": [
        "#3.1. 상관관계 매트릭스\n",
        "\n",
        "numeric_cols = ['연봉', '근무연수', '교육시간', '만족도', '이직의향']\n",
        "correlation_data = df_hr[numeric_cols]\n",
        "\n",
        "correlation_matrix = correlation_data.corr()\n",
        "\n",
        "print(\"📊 상관계수 매트릭스\")\n",
        "print(correlation_matrix.round(3))"
      ],
      "metadata": {
        "colab": {
          "base_uri": "https://localhost:8080/"
        },
        "id": "w2vD5FIjL4If",
        "outputId": "7a069df1-ee46-4166-ef92-202f9e54cbfa"
      },
      "execution_count": null,
      "outputs": [
        {
          "output_type": "stream",
          "name": "stdout",
          "text": [
            "📊 상관계수 매트릭스\n",
            "         연봉   근무연수   교육시간    만족도   이직의향\n",
            "연봉    1.000  0.101 -0.003  0.567 -0.265\n",
            "근무연수  0.101  1.000 -0.062  0.389 -0.130\n",
            "교육시간 -0.003 -0.062  1.000  0.484 -0.276\n",
            "만족도   0.567  0.389  0.484  1.000 -0.534\n",
            "이직의향 -0.265 -0.130 -0.276 -0.534  1.000\n"
          ]
        }
      ]
    },
    {
      "cell_type": "code",
      "source": [
        "#3.2. 만족도와의 상관관계\n",
        "\n",
        "satisfaction_corr = correlation_matrix['만족도'].sort_values(ascending=False)\n",
        "\n",
        "print(\"🎯 만족도와의 상관관계 (높은 순)\")\n",
        "\n",
        "for var, corr in satisfaction_corr.items():\n",
        "    if var != '만족도':\n",
        "        if abs(corr) > 0.5:\n",
        "            strength = \"강한\"\n",
        "        elif abs(corr) > 0.3:\n",
        "            strength = \"중간\"\n",
        "        else:\n",
        "            strength = \"약한\"\n",
        "\n",
        "        direction = \"양의\" if corr > 0 else \"음의\"\n",
        "        print(f\" • {var}: {corr:.3f} ({strength} {direction} 상관관계)\")\n",
        "\n",
        "#연봉, 이직의향이 직원 만족도와 가장 밀접한 관련이 있다"
      ],
      "metadata": {
        "colab": {
          "base_uri": "https://localhost:8080/"
        },
        "id": "YZG_tGOIL4LF",
        "outputId": "44c7b61c-066b-4c4e-cd83-5dc556b95c8f"
      },
      "execution_count": null,
      "outputs": [
        {
          "output_type": "stream",
          "name": "stdout",
          "text": [
            "🎯 만족도와의 상관관계 (높은 순)\n",
            " • 연봉: 0.567 (강한 양의 상관관계)\n",
            " • 교육시간: 0.484 (중간 양의 상관관계)\n",
            " • 근무연수: 0.389 (중간 양의 상관관계)\n",
            " • 이직의향: -0.534 (강한 음의 상관관계)\n"
          ]
        }
      ]
    },
    {
      "cell_type": "code",
      "source": [
        "#3.3. 상관관계 히트맵\n",
        "\n",
        "plt.figure(figsize=(10, 8))\n",
        "\n",
        "sns.heatmap(correlation_matrix, annot=True, cmap='RdBu_r', center=0, fmt='.3f')\n",
        "\n",
        "plt.title('📊 변수 간 상관관계 히트맵', fontsize=16)\n",
        "plt.tight_layout()\n",
        "plt.show()\n"
      ],
      "metadata": {
        "colab": {
          "base_uri": "https://localhost:8080/",
          "height": 553
        },
        "id": "IiOz6AojL4N2",
        "outputId": "8b8635d9-099f-433d-9f4c-41e2747065e6"
      },
      "execution_count": null,
      "outputs": [
        {
          "output_type": "display_data",
          "data": {
            "text/plain": [
              "<Figure size 1000x800 with 2 Axes>"
            ],
            "image/png": "[encoded data removed]"
          },
          "metadata": {}
        }
      ]
    },
    {
      "cell_type": "code",
      "source": [
        "#3.4. 부서별 만족도 비교\n",
        "\n",
        "dept_summary = df_hr.groupby('부서')['만족도'].mean()\n",
        "\n",
        "print(\"📊 부서별 평균 만족도\")\n",
        "print(dept_summary.round(2))\n",
        "\n",
        "dept_turnover = df_hr.groupby('부서')['이직의향'].mean()\n",
        "\n",
        "print(\"\\n📈 부서별 이직의향\")\n",
        "print(dept_turnover.round(3))\n",
        "\n",
        "print(\"\\n📝 부서별 상세 분석\")\n",
        "for dept in df_hr['부서'].unique():\n",
        "    dept_data = df_hr[df_hr['부서'] == dept]\n",
        "\n",
        "    satisfaction_avg = dept_data['만족도'].mean()\n",
        "    turnover_avg = dept_data['이직의향'].mean()\n",
        "\n",
        "    print(f\"{dept}부: 만족도 {satisfaction_avg:.1f}점, 이직의향 {turnover_avg:.1%}\")\n",
        "\n",
        "#개발팀: 만족도 가장 높고, 이직의향 가장 낮다\n",
        "#영업부: 만족도 가장 낮고, 이직의향 가장 높다"
      ],
      "metadata": {
        "colab": {
          "base_uri": "https://localhost:8080/"
        },
        "id": "CAnBl9DoL4RI",
        "outputId": "7c37503b-d225-4f7a-951c-04d7a6f239b4"
      },
      "execution_count": null,
      "outputs": [
        {
          "output_type": "stream",
          "name": "stdout",
          "text": [
            "📊 부서별 평균 만족도\n",
            "부서\n",
            "개발     7.76\n",
            "마케팅    7.82\n",
            "영업     6.96\n",
            "인사     6.93\n",
            "Name: 만족도, dtype: float64\n",
            "\n",
            "📈 부서별 이직의향\n",
            "부서\n",
            "개발     0.139\n",
            "마케팅    0.208\n",
            "영업     0.276\n",
            "인사     0.278\n",
            "Name: 이직의향, dtype: float64\n",
            "\n",
            "📝 부서별 상세 분석\n",
            "개발부: 만족도 7.8점, 이직의향 13.9%\n",
            "마케팅부: 만족도 7.8점, 이직의향 20.8%\n",
            "영업부: 만족도 7.0점, 이직의향 27.6%\n",
            "인사부: 만족도 6.9점, 이직의향 27.8%\n"
          ]
        }
      ]
    },
    {
      "cell_type": "code",
      "source": [
        "#3.5. 더미 변수 생성\n",
        "\n",
        "dept_dummies = pd.get_dummies(df_hr['부서'], prefix='부서')\n",
        "\n",
        "rank_dummies = pd.get_dummies(df_hr['직급'], prefix='직급')\n",
        "\n",
        "dept_dummies = dept_dummies.drop('부서_인사', axis=1)\n",
        "rank_dummies = rank_dummies.drop('직급_사원', axis=1)\n",
        "\n",
        "print(\"부서:\", list(dept_dummies.columns))\n",
        "print(\"직급:\", list(rank_dummies.columns))"
      ],
      "metadata": {
        "colab": {
          "base_uri": "https://localhost:8080/"
        },
        "id": "MAnRfSKrwSAu",
        "outputId": "af70978e-d922-4a18-ffbf-10caebd331f0"
      },
      "execution_count": null,
      "outputs": [
        {
          "output_type": "stream",
          "name": "stdout",
          "text": [
            "부서: ['부서_개발', '부서_마케팅', '부서_영업']\n",
            "직급: ['직급_과장', '직급_대리', '직급_부장']\n"
          ]
        }
      ]
    },
    {
      "cell_type": "code",
      "source": [
        "#3.6. 회귀분석용 데이터 준비\n",
        "\n",
        "from sklearn.linear_model import LinearRegression\n",
        "from sklearn.metrics import r2_score\n",
        "\n",
        "X_vars = pd.concat([df_hr[['연봉', '근무연수', '교육시간']], dept_dummies, rank_dummies], axis=1)\n",
        "\n",
        "y_var = df_hr['만족도']\n",
        "\n",
        "print(\"📊 회귀분석 변수 구성\")\n",
        "print(f\"독립변수 개수: {len(X_vars.columns)}개\")\n",
        "print(f\"독립변수: {list(X_vars.columns)}\")\n",
        "print(f\"종속변수: 만족도\")"
      ],
      "metadata": {
        "colab": {
          "base_uri": "https://localhost:8080/"
        },
        "id": "ps_fJN58wSDq",
        "outputId": "e97f62fd-becb-4aaf-b4d4-ad0fc3381767"
      },
      "execution_count": null,
      "outputs": [
        {
          "output_type": "stream",
          "name": "stdout",
          "text": [
            "📊 회귀분석 변수 구성\n",
            "독립변수 개수: 9개\n",
            "독립변수: ['연봉', '근무연수', '교육시간', '부서_개발', '부서_마케팅', '부서_영업', '직급_과장', '직급_대리', '직급_부장']\n",
            "종속변수: 만족도\n"
          ]
        }
      ]
    },
    {
      "cell_type": "code",
      "source": [
        "#3.7. 회귀분석 실행\n",
        "\n",
        "model = LinearRegression()\n",
        "model.fit(X_vars, y_var)\n",
        "\n",
        "y_pred = model.predict(X_vars)\n",
        "\n",
        "r2 = r2_score(y_var, y_pred)\n",
        "\n",
        "print(\"📊 다중회귀분석 결과\")\n",
        "print(f\"R² (설명력): {r2:.3f} ({r2*100:.1f}%)\")"
      ],
      "metadata": {
        "colab": {
          "base_uri": "https://localhost:8080/"
        },
        "id": "julcBxACwSF4",
        "outputId": "9b1b4a86-faaa-444f-99ff-866f8e0ab749"
      },
      "execution_count": null,
      "outputs": [
        {
          "output_type": "stream",
          "name": "stdout",
          "text": [
            "📊 다중회귀분석 결과\n",
            "R² (설명력): 0.800 (80.0%)\n"
          ]
        }
      ]
    },
    {
      "cell_type": "code",
      "source": [
        "#3.8. 회귀계수 해석\n",
        "\n",
        "coefficients = pd.DataFrame({\n",
        "    '변수': X_vars.columns,\n",
        "    '계수': model.coef_,\n",
        "    '절댓값': np.abs(model.coef_)\n",
        "})\n",
        "\n",
        "\n",
        "coefficients = coefficients.sort_values('절댓값', ascending=False)\n",
        "\n",
        "print(\"🔍 회귀계수 분석 (영향력 순)\")\n",
        "print(coefficients.head(5))\n",
        "\n",
        "\n",
        "most_important = coefficients.iloc[0]\n",
        "print(f\"\\n가장 영향력이 큰 변수: {most_important['변수']} (계수: {most_important['계수']:.3f})\")\n",
        "\n",
        "#기준: 사원\n",
        "#사원 직급에 비해 부장 직급이 다른 조건이 동일할 때, 직원 만족도를 1.39점 높이는 요인\n"
      ],
      "metadata": {
        "colab": {
          "base_uri": "https://localhost:8080/"
        },
        "id": "sVZ3ctE1wSJB",
        "outputId": "31730bd3-d231-4d9d-c420-ae01876fdbca"
      },
      "execution_count": null,
      "outputs": [
        {
          "output_type": "stream",
          "name": "stdout",
          "text": [
            "🔍 회귀계수 분석 (영향력 순)\n",
            "      변수        계수       절댓값\n",
            "8  직급_부장  1.393631  1.393631\n",
            "6  직급_과장  0.764017  0.764017\n",
            "3  부서_개발  0.497000  0.497000\n",
            "5  부서_영업 -0.496424  0.496424\n",
            "7  직급_대리  0.325535  0.325535\n",
            "\n",
            "가장 영향력이 큰 변수: 직급_부장 (계수: 1.394)\n"
          ]
        }
      ]
    },
    {
      "cell_type": "code",
      "source": [
        "#3.9. 로지스틱 회귀\n",
        "\n",
        "from sklearn.linear_model import LogisticRegression\n",
        "from sklearn.metrics import classification_report, confusion_matrix\n",
        "\n",
        "X_logistic = X_vars\n",
        "y_logistic = df_hr['이직의향'] #목표 변수\n",
        "\n",
        "turnover_summary = df_hr['이직의향'].value_counts() #이직의향 수\n",
        "turnover_rate = df_hr['이직의향'].mean() #이직의향 비율\n",
        "\n",
        "print(\"📊 현재 이직 의향 현황\")\n",
        "print(f\"이직 의향 있음: {turnover_summary[1]}명 ({turnover_rate:.1%})\")\n",
        "print(f\"이직 의향 없음: {turnover_summary[0]}명 ({1-turnover_rate:.1%})\")\n"
      ],
      "metadata": {
        "colab": {
          "base_uri": "https://localhost:8080/"
        },
        "id": "FO285mqewSLg",
        "outputId": "da8023c6-7363-4db2-e32a-0212d6c09e17"
      },
      "execution_count": null,
      "outputs": [
        {
          "output_type": "stream",
          "name": "stdout",
          "text": [
            "📊 현재 이직 의향 현황\n",
            "이직 의향 있음: 51명 (20.4%)\n",
            "이직 의향 없음: 199명 (79.6%)\n"
          ]
        }
      ]
    },
    {
      "cell_type": "code",
      "source": [
        "#3.10. 로지스틱 회귀 학습\n",
        "\n",
        "logistic_model = LogisticRegression(random_state=42, max_iter=1000)\n",
        "\n",
        "#y_logistic= 이직의향\n",
        "logistic_model.fit(X_logistic, y_logistic)\n",
        "\n",
        "#predict_proba(): [클래스 0의 확률, 클래스 1의 확률]\n",
        "#[:, 1] = 이직 의향 있음(1) 클래스 확률만 추출\n",
        "y_pred_proba = logistic_model.predict_proba(X_logistic)[:, 1]\n",
        "\n",
        "y_pred_class = logistic_model.predict(X_logistic)\n",
        "\n",
        "accuracy = (y_pred_class == y_logistic).mean()\n",
        "\n",
        "print(\"🤖 로지스틱 회귀 모델 성능\")\n",
        "print(f\"정확도: {accuracy:.3f}\")\n",
        "\n",
        "#학습 데이터 자체로 예측 수행해서 높게 나왔을수도 있음 (X_logistic)"
      ],
      "metadata": {
        "colab": {
          "base_uri": "https://localhost:8080/"
        },
        "id": "M5scgAI5yMO0",
        "outputId": "753c3985-650a-49fb-ff05-57ca037e7455"
      },
      "execution_count": null,
      "outputs": [
        {
          "output_type": "stream",
          "name": "stdout",
          "text": [
            "🤖 로지스틱 회귀 모델 성능\n",
            "정확도: 0.864\n"
          ]
        }
      ]
    },
    {
      "cell_type": "code",
      "source": [
        "#3.11. 혼동 행렬\n",
        "\n",
        "cm = confusion_matrix(y_logistic, y_pred_class)\n",
        "\n",
        "print(\"📋 혼동 행렬\")\n",
        "print(\"실제 ⇒ 예측  이직안함  이직함\")\n",
        "print(f\"이직 안함     {cm[0,0]:3d}    {cm[0,1]:3d}\")\n",
        "print(f\"이직 함       {cm[1,0]:3d}    {cm[1,1]:3d}\")\n",
        "\n",
        "precision = cm[1,1] / (cm[1,1] + cm[0,1]) if (cm[1,1] + cm[0,1]) > 0 else 0\n",
        "\n",
        "recall = cm[1,1] / (cm[1,1] + cm[1,0]) if (cm[1,1] + cm[1,0]) > 0 else 0\n",
        "\n",
        "#모델이 이직할 것이다 라고 예측한 사람들 중 실제로 이직 의향이 있는 사람\n",
        "print(f\"\\n정밀도: {precision:.3f}\")\n",
        "#실제로 이직 의향이 있는 사람 중 모델이 올바르게 찾아낸 정도\n",
        "print(f\"재현율: {recall:.3f}\")"
      ],
      "metadata": {
        "colab": {
          "base_uri": "https://localhost:8080/"
        },
        "id": "vFVCy1IiyMUc",
        "outputId": "84926003-bfbe-468e-efcc-4eba8b7961c5"
      },
      "execution_count": null,
      "outputs": [
        {
          "output_type": "stream",
          "name": "stdout",
          "text": [
            "📋 혼동 행렬\n",
            "실제 ⇒ 예측  이직안함  이직함\n",
            "이직 안함     193      6\n",
            "이직 함        28     23\n",
            "\n",
            "정밀도: 0.793\n",
            "재현율: 0.451\n"
          ]
        }
      ]
    },
    {
      "cell_type": "code",
      "source": [
        "#3.12. 오즈비 계산\n",
        "\n",
        "odds_ratios = np.exp(logistic_model.coef_[0])\n",
        "\n",
        "odds_analysis = pd.DataFrame({\n",
        "    '변수': X_logistic.columns,\n",
        "    '계수': logistic_model.coef_[0],\n",
        "    '오즈비': odds_ratios,\n",
        "    '위험도변화': [(or_val - 1) * 100 for or_val in odds_ratios]\n",
        "})\n",
        "\n",
        "odds_analysis = odds_analysis.sort_values('위험도변화', key=abs, ascending=False)\n",
        "\n",
        "print(\"🎯 이직 위험 요인 분석 (상위 5개)\")\n",
        "print(odds_analysis.head())\n",
        "\n",
        "#직급이 높을수록 이직 위험이 낮아진다\n",
        "#영업부서는 이직 위험이 높다\n",
        "\n",
        "  #과장, 부장 > 이직 위험은 60% 정도 감소하는 요인\n",
        "  #개발 부서 > 이직 위험 47% 정도 감소\n",
        "\n",
        "  #영업 부서 > 같은 조건이라도 영업부서라면 이직 확률 60% 증가"
      ],
      "metadata": {
        "colab": {
          "base_uri": "https://localhost:8080/"
        },
        "id": "MT5pf7rNyMZr",
        "outputId": "76ccd06b-a296-4f3a-d16a-650d7636c1be"
      },
      "execution_count": null,
      "outputs": [
        {
          "output_type": "stream",
          "name": "stdout",
          "text": [
            "🎯 이직 위험 요인 분석 (상위 5개)\n",
            "      변수        계수       오즈비      위험도변화\n",
            "6  직급_과장 -0.976027  0.376805 -62.319493\n",
            "8  직급_부장 -0.960123  0.382846 -61.715429\n",
            "5  부서_영업  0.473843  1.606155  60.615491\n",
            "3  부서_개발 -0.630661  0.532240 -46.776002\n",
            "7  직급_대리 -0.603491  0.546899 -45.310074\n"
          ]
        }
      ]
    },
    {
      "cell_type": "code",
      "source": [
        "#3.13. 고위험군 식별\n",
        "\n",
        "#이직 확률이 70% 이상인 경우\n",
        "high_risk_threshold = 0.7\n",
        "\n",
        "#확률이 0.7보다 높은 직원들만 추출 = 고위험군 식별\n",
        "high_risk_mask = y_pred_proba > high_risk_threshold\n",
        "high_risk_employees = df_hr[high_risk_mask]\n",
        "\n",
        "print(f\"🎯 이직 고위험군 식별\")\n",
        "print(f\"이직 확률 {high_risk_threshold:.0%} 이상 직원: {len(high_risk_employees)}명\")\n",
        "\n",
        "if len(high_risk_employees) > 0:\n",
        "    print(\"고위험군 특징:\")\n",
        "    avg_satisfaction = high_risk_employees['만족도'].mean()\n",
        "\n",
        "    avg_salary = high_risk_employees['연봉'].mean()\n",
        "\n",
        "    print(f\" • 평균 만족도: {avg_satisfaction:.1f}점\")\n",
        "    print(f\" • 평균 연봉: {avg_salary/10000:.0f}만원\")\n",
        "\n",
        "#평균보다는 만족도가 낮을수도...\n",
        "#연봉이 평균보다 낮다면 보상 문제가 주요 문제일수도\n",
        "#개별 면담 우선 순위 결정이나 피드백 체계 강화 등의 전략을 세울 수 있다"
      ],
      "metadata": {
        "colab": {
          "base_uri": "https://localhost:8080/"
        },
        "id": "7YkfuJlVzOSy",
        "outputId": "675cbed4-dad1-4dd3-a91f-e75513f5706e"
      },
      "execution_count": null,
      "outputs": [
        {
          "output_type": "stream",
          "name": "stdout",
          "text": [
            "🎯 이직 고위험군 식별\n",
            "이직 확률 70% 이상 직원: 10명\n",
            "고위험군 특징:\n",
            " • 평균 만족도: 3.6점\n",
            " • 평균 연봉: 3만원\n"
          ]
        }
      ]
    },
    {
      "cell_type": "code",
      "source": [
        "#3.14. 최종 권고안\n",
        "\n",
        "print(\"=\" * 60)\n",
        "print(\"📄 CEO 보고 요약: 직원 만족도 및 이직 방지 전략\")\n",
        "print(\"=\" * 60)\n",
        "\n",
        "print(\"\\n📊 현황 요약\")\n",
        "print(f\" • 전체 직원 만족도: {df_hr['만족도'].mean():.1f}/10점\")\n",
        "#이직의향이 1인 사람의 비율\n",
        "print(f\" • 현재 이직 의향률: {df_hr['이직의향'].mean():.1%}\")\n",
        "#이직 확률이 70%보다 높은 사람\n",
        "print(f\" • 고위험군: {len(high_risk_employees)}명\")\n",
        "\n",
        "print(\"\\n🏢 부서별 위험도 분석\")\n",
        "dept_risk = df_hr.groupby('부서')['이직의향'].mean().sort_values(ascending=False)\n",
        "\n",
        "for dept, risk in dept_risk.items():\n",
        "    if risk > 0.3:  # 30% 이상이면 높은 위험\n",
        "        emoji = \"🔴\"\n",
        "        level = \"높음\"\n",
        "    elif risk > 0.15:  # 15% 이상이면 보통\n",
        "        emoji = \"🟡\"\n",
        "        level = \"보통\"\n",
        "    else:\n",
        "        emoji = \"🟢\"\n",
        "        level = \"낮음\"\n",
        "\n",
        "    print(f\"{emoji} {dept}부: 이직률 {risk:.1%} (위험도: {level})\")\n",
        "\n",
        "# TODO: 핵심 발견사항 정리하기\n",
        "print(f\"\\n💡 핵심 발견사항\")\n",
        "most_important_factor = coefficients.iloc[0] # 이전 선형회귀분석에서 계산\n",
        "print(f\" • 만족도에 가장 큰 영향: {most_important_factor['변수']}\")\n",
        "\n",
        "# TODO: 권장 액션 플랜 작성하기\n",
        "print(f\"\\n🚀 권장 액션 플랜\")\n",
        "highest_risk_dept = dept_risk.index[0]\n",
        "print(f\" • 즉시 조치 필요: {highest_risk_dept}부 집중 관리\")\n",
        "print(f\" • 투자 우선순위: 만족도 개선 프로그램\")\n",
        "print(f\" • 모니터링: 월별 만족도 조사 실시\")\n",
        "\n",
        "\n",
        "#이직률: 전체 20.4%\n",
        "#위험 부서: 인사부, 영업부, 마케팅부가 보통 수준 이상\n",
        "#주요 원인: 직급이 가장 만족도와 관련도가 높았다 > 직급 분포 불균형..?\n",
        "#우선조치: 위험 부서 중심 관리 시도\n",
        "#추진 전략: 만족도 개선(승진개획 또는 보상체계 강화 등)"
      ],
      "metadata": {
        "colab": {
          "base_uri": "https://localhost:8080/"
        },
        "id": "-lFRBJV7zOWT",
        "outputId": "e961d119-d956-4da8-e322-c7ade576cd8f"
      },
      "execution_count": null,
      "outputs": [
        {
          "output_type": "stream",
          "name": "stdout",
          "text": [
            "============================================================\n",
            "📄 CEO 보고 요약: 직원 만족도 및 이직 방지 전략\n",
            "============================================================\n",
            "\n",
            "📊 현황 요약\n",
            " • 전체 직원 만족도: 7.5/10점\n",
            " • 현재 이직 의향률: 20.4%\n",
            " • 고위험군: 10명\n",
            "\n",
            "🏢 부서별 위험도 분석\n",
            "🟡 인사부: 이직률 27.8% (위험도: 보통)\n",
            "🟡 영업부: 이직률 27.6% (위험도: 보통)\n",
            "🟡 마케팅부: 이직률 20.8% (위험도: 보통)\n",
            "🟢 개발부: 이직률 13.9% (위험도: 낮음)\n",
            "\n",
            "💡 핵심 발견사항\n",
            " • 만족도에 가장 큰 영향: 직급_부장\n",
            "\n",
            "🚀 권장 액션 플랜\n",
            " • 즉시 조치 필요: 인사부 집중 관리\n",
            " • 투자 우선순위: 만족도 개선 프로그램\n",
            " • 모니터링: 월별 만족도 조사 실시\n"
          ]
        }
      ]
    },
    {
      "cell_type": "code",
      "source": [],
      "metadata": {
        "id": "zfS3qopIzOaR"
      },
      "execution_count": null,
      "outputs": []
    }
  ]
}